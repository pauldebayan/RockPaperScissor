{
  "cells": [
    {
      "cell_type": "code",
      "execution_count": null,
      "metadata": {
        "id": "PMBN2gFBFX76"
      },
      "outputs": [],
      "source": [
        "!wget https://github.com/pauldebayan/RockPaperScissor-Game/raw/refs/heads/main/rockPaperScissor_dataset.zip\n",
        "!wget https://raw.githubusercontent.com/pauldebayan/RockPaperScissor-Game/refs/heads/main/labels.csv\n",
        "!unzip rockPaperScissor_dataset.zip\n",
        "!rm -rf rockPaperScissor_dataset.zip"
      ]
    },
    {
      "cell_type": "code",
      "execution_count": 109,
      "metadata": {
        "id": "5cNjJOunGQRk"
      },
      "outputs": [],
      "source": [
        "from torchvision.io import read_image\n",
        "import matplotlib.pyplot as plt\n",
        "import torchvision\n",
        "import torch\n",
        "import torch.nn as nn\n",
        "import os\n",
        "import pandas as pd\n",
        "import torchvision.transforms as transforms\n",
        "from torch.utils.data import Dataset\n",
        "from torch.utils.data import DataLoader\n"
      ]
    },
    {
      "cell_type": "code",
      "execution_count": null,
      "metadata": {
        "colab": {
          "base_uri": "https://localhost:8080/"
        },
        "id": "YLOb0_dSR_l-",
        "outputId": "70f95632-4856-4720-91d3-654baffc7896"
      },
      "outputs": [],
      "source": [
        "device = torch.device('cuda' if torch.cuda.is_available() else 'cpu')\n",
        "print(device)"
      ]
    },
    {
      "cell_type": "code",
      "execution_count": null,
      "metadata": {
        "colab": {
          "base_uri": "https://localhost:8080/"
        },
        "id": "xPd_jcBrG_3z",
        "outputId": "7a5cdbfb-459a-4614-ef5b-17d4d2e42e72"
      },
      "outputs": [],
      "source": [
        "img = read_image('./rockPaperScissor_dataset/rock1.jpg')\n",
        "\n",
        "print(img.shape)"
      ]
    },
    {
      "cell_type": "code",
      "execution_count": 112,
      "metadata": {
        "id": "PoK8dBPXG_1m"
      },
      "outputs": [],
      "source": [
        "class RockPaperScissorDataset(Dataset):\n",
        "    def __init__(self, annotations_file, img_dir, transform=None, target_transform=None):\n",
        "        self.img_labels = pd.read_csv(annotations_file)\n",
        "        self.img_dir = img_dir\n",
        "        self.transform = transform\n",
        "        self.target_transform = target_transform\n",
        "\n",
        "    def __len__(self):\n",
        "        return len(self.img_labels)\n",
        "\n",
        "    def __getitem__(self, idx):\n",
        "        img_path = os.path.join(self.img_dir, self.img_labels.iloc[idx, 0])\n",
        "        image = read_image(img_path)\n",
        "        label = self.img_labels.iloc[idx, 1]\n",
        "        if self.transform:\n",
        "            image = self.transform(image)\n",
        "        if self.target_transform:\n",
        "            label = self.target_transform(label)\n",
        "\n",
        "        return image, label"
      ]
    },
    {
      "cell_type": "code",
      "execution_count": 113,
      "metadata": {
        "id": "yTbzBndEJegZ"
      },
      "outputs": [],
      "source": [
        "transform = transforms.Compose([\n",
        "    transforms.ToPILImage(),\n",
        "    transforms.ToTensor()\n",
        "])"
      ]
    },
    {
      "cell_type": "code",
      "execution_count": 114,
      "metadata": {
        "id": "fRIZYnfRHtpt"
      },
      "outputs": [],
      "source": [
        "dataset = RockPaperScissorDataset(img_dir = 'rockPaperScissor_dataset',\n",
        "                             annotations_file = 'labels.csv',\n",
        "                             transform = transform)"
      ]
    },
    {
      "cell_type": "code",
      "execution_count": 115,
      "metadata": {
        "id": "G6XRI-fPJlLQ"
      },
      "outputs": [],
      "source": [
        "train_set, valid_set, test_set = torch.utils.data.random_split(dataset, [0.6, 0.2, 0.2])"
      ]
    },
    {
      "cell_type": "code",
      "execution_count": 116,
      "metadata": {
        "id": "ky9qCGR_JzPg"
      },
      "outputs": [],
      "source": [
        "train_dataloader = DataLoader(train_set, batch_size=5, shuffle=True)\n",
        "valid_dataloader = DataLoader(valid_set, batch_size=1, shuffle=True)\n",
        "test_dataloader = DataLoader(test_set, batch_size=1, shuffle=True)"
      ]
    },
    {
      "cell_type": "code",
      "execution_count": 117,
      "metadata": {
        "id": "yA0HeDIkKFjL"
      },
      "outputs": [],
      "source": [
        "class RockPaperScissorCNN(nn.Module):\n",
        "    def __init__(self):\n",
        "        super().__init__()\n",
        "        self.conv1 = nn.Conv2d(3, 20, 3, stride = 1)\n",
        "        self.conv2 = nn.Conv2d(20, 10, 3, stride = 1)\n",
        "        self.conv3 = nn.Conv2d(10, 5, 3, stride = 1)\n",
        "\n",
        "        self.pool = nn.MaxPool2d(2, 2)\n",
        "\n",
        "        self.activ = nn.LeakyReLU()\n",
        "\n",
        "        self.dropout = nn.Dropout(0.2)\n",
        "\n",
        "        self.linear_stack = nn.Sequential(\n",
        "            nn.Linear(6125, 50),\n",
        "            nn.LeakyReLU(),\n",
        "            nn.Linear(50, 10),\n",
        "            nn.LeakyReLU(),\n",
        "            nn.Linear(10, 3),\n",
        "        )\n",
        "\n",
        "    def forward(self, x):\n",
        "\n",
        "        x = self.pool(self.activ(self.conv1(x)))\n",
        "        x = self.dropout(x)\n",
        "        x = self.pool(self.activ(self.conv2(x)))\n",
        "        x = self.dropout(x)\n",
        "        x = self.pool(self.activ(self.conv3(x)))\n",
        "\n",
        "        x = x.view(x.size(0), -1)\n",
        "        x = self.linear_stack(x)\n",
        "\n",
        "        return x"
      ]
    },
    {
      "cell_type": "code",
      "execution_count": null,
      "metadata": {
        "colab": {
          "base_uri": "https://localhost:8080/"
        },
        "id": "Vcx-jFZrLoe0",
        "outputId": "a8efb3b4-dcb7-4e2d-ff48-e1d93668e17b"
      },
      "outputs": [],
      "source": [
        "model = RockPaperScissorCNN().to(device)\n",
        "print(model)"
      ]
    },
    {
      "cell_type": "code",
      "execution_count": null,
      "metadata": {
        "colab": {
          "base_uri": "https://localhost:8080/",
          "height": 335
        },
        "id": "rhFrlEpANU45",
        "outputId": "d6d152df-3dc0-4d37-914d-4d7a7eb1ffa3"
      },
      "outputs": [],
      "source": [
        "print(img.shape)\n",
        "model(img.float().to(device))"
      ]
    },
    {
      "cell_type": "code",
      "execution_count": null,
      "metadata": {
        "colab": {
          "base_uri": "https://localhost:8080/"
        },
        "id": "Kb3-N6GvXuaP",
        "outputId": "bd53c581-18fc-46ed-e52a-9ba698753ede"
      },
      "outputs": [],
      "source": [
        "# Display image and label.\n",
        "train_features, train_labels = next(iter(train_dataloader))\n",
        "img = train_features[0]\n",
        "label = train_labels[0]\n",
        "\n",
        "print(img.shape)"
      ]
    },
    {
      "cell_type": "code",
      "execution_count": 122,
      "metadata": {
        "id": "iIrmwYy5NO4e"
      },
      "outputs": [],
      "source": [
        "learning_rate = 0.0001\n",
        "batch_size = 5\n",
        "epochs = 30\n",
        "loss_fn = nn.CrossEntropyLoss()\n",
        "optimizer = torch.optim.Adam(model.parameters(), lr=learning_rate)"
      ]
    },
    {
      "cell_type": "code",
      "execution_count": 123,
      "metadata": {
        "id": "BUYxHUCuP8_Q"
      },
      "outputs": [],
      "source": [
        "def train_loop():\n",
        "\n",
        "    size = len(train_dataloader)\n",
        "    accumulate_loss = 0\n",
        "\n",
        "    for img, label in train_dataloader:\n",
        "\n",
        "        img = img.float().to(device)\n",
        "        label = label.to(device)\n",
        "\n",
        "        pred = model(img)\n",
        "\n",
        "        loss = loss_fn(pred, label)\n",
        "\n",
        "        loss.backward()\n",
        "        optimizer.step()\n",
        "        optimizer.zero_grad()\n",
        "\n",
        "        accumulate_loss += loss.item()\n",
        "\n",
        "    return accumulate_loss/size\n",
        "\n",
        "\n",
        "def valid_loop():\n",
        "    size = len(valid_dataloader)\n",
        "    accumulate_loss = 0\n",
        "\n",
        "    for img, label in valid_dataloader:\n",
        "\n",
        "        img = img.float().to(device)\n",
        "        label = label.to(device)\n",
        "\n",
        "        pred = model(img)\n",
        "        loss = loss_fn(pred, label)\n",
        "\n",
        "        accumulate_loss += loss.item()\n",
        "\n",
        "\n",
        "    return accumulate_loss/size\n",
        "\n"
      ]
    },
    {
      "cell_type": "code",
      "execution_count": null,
      "metadata": {
        "colab": {
          "base_uri": "https://localhost:8080/",
          "height": 997
        },
        "id": "R57x7AcLQwrR",
        "outputId": "592a0b35-ae84-45df-c7d8-3a4c80ec7d27"
      },
      "outputs": [],
      "source": [
        "x = [x+1 for x in range(epochs)]\n",
        "trainLossArr = []\n",
        "validLossArr = []\n",
        "\n",
        "for i in range(epochs):\n",
        "\n",
        "    # Train\n",
        "    train_loss = train_loop()\n",
        "    trainLossArr.append(train_loss)\n",
        "\n",
        "    # Valid\n",
        "    valid_loss = train_loop()\n",
        "    validLossArr.append(valid_loss)\n",
        "\n",
        "    print(f\"Epoch {i+1} - Training Loss: {train_loss}, Validation Loss: {valid_loss}\")\n",
        "\n",
        "\n",
        "plt.plot(x, trainLossArr, 'b', label=\"Train\")\n",
        "plt.plot(x, validLossArr, 'g', label=\"Valid\")\n",
        "plt.legend(loc=\"upper right\")\n",
        "plt.xlabel(\"Epochs\")\n",
        "plt.ylabel(\"Loss\")\n",
        "plt.show()"
      ]
    },
    {
      "cell_type": "code",
      "execution_count": 125,
      "metadata": {
        "id": "2o7bjTb3RJFR"
      },
      "outputs": [],
      "source": [
        "torch.save(model.state_dict(), 'model.pt')"
      ]
    },
    {
      "cell_type": "code",
      "execution_count": null,
      "metadata": {
        "colab": {
          "base_uri": "https://localhost:8080/"
        },
        "id": "lw7c7XdvRq31",
        "outputId": "ca1bb475-d6f5-4b34-e887-60a16e470d56"
      },
      "outputs": [],
      "source": [
        "state_dict = torch.load('model.pt', map_location=device, weights_only=True)\n",
        "model.load_state_dict(state_dict)\n",
        "model.eval()"
      ]
    },
    {
      "cell_type": "code",
      "execution_count": null,
      "metadata": {
        "colab": {
          "base_uri": "https://localhost:8080/"
        },
        "id": "BcWBsWAwRJuW",
        "outputId": "90bc444f-0260-4f51-ee8b-c9fbbdbd2027"
      },
      "outputs": [],
      "source": [
        "correct = 0\n",
        "for img, label in test_dataloader:\n",
        "    img = img.float().to(device)\n",
        "    label = label.to(device)\n",
        "    pred = model(img)\n",
        "\n",
        "    if torch.argmax(pred) == label.squeeze():\n",
        "        correct += 1\n",
        "accuracy = correct/len(test_dataloader)*100\n",
        "print(f\"Accuracy: {accuracy}\")\n"
      ]
    },
    {
      "cell_type": "code",
      "execution_count": null,
      "metadata": {
        "colab": {
          "base_uri": "https://localhost:8080/"
        },
        "id": "SzmVb1EPj-5N",
        "outputId": "5f362d16-5232-4be5-a650-30b1e12c81d0"
      },
      "outputs": [],
      "source": [
        "!pip install onnx"
      ]
    },
    {
      "cell_type": "code",
      "execution_count": 137,
      "metadata": {
        "id": "FrWSJonnefgp"
      },
      "outputs": [],
      "source": [
        "import onnx\n",
        "\n",
        "img = torch.randn(1, 3, 300, 300).to(device)\n",
        "\n",
        "torch.onnx.export(model, img, \"model.onnx\", input_names=['input'])"
      ]
    },
    {
      "cell_type": "code",
      "execution_count": null,
      "metadata": {
        "colab": {
          "base_uri": "https://localhost:8080/",
          "height": 17
        },
        "id": "C_Ph1l42jijx",
        "outputId": "b141de7f-cd71-4d7b-985a-ca34e32ce042"
      },
      "outputs": [],
      "source": [
        "from google.colab import files\n",
        "files.download('model.onnx')"
      ]
    },
    {
      "cell_type": "code",
      "execution_count": null,
      "metadata": {
        "id": "1S9fqBM8kIt-"
      },
      "outputs": [],
      "source": []
    }
  ],
  "metadata": {
    "accelerator": "GPU",
    "colab": {
      "gpuType": "T4",
      "provenance": []
    },
    "kernelspec": {
      "display_name": "Python 3",
      "name": "python3"
    },
    "language_info": {
      "name": "python"
    }
  },
  "nbformat": 4,
  "nbformat_minor": 0
}
